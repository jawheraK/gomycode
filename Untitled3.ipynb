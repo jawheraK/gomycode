{
 "cells": [
  {
   "cell_type": "code",
   "execution_count": 44,
   "id": "b7ca92ca",
   "metadata": {},
   "outputs": [
    {
     "name": "stdout",
     "output_type": "stream",
     "text": [
      "[2, 3, 6]\n",
      "result: \n",
      "36\n"
     ]
    }
   ],
   "source": [
    "def mul_list(list) :\n",
    "    result = 1\n",
    "    for i in list:\n",
    "         result = result * i\n",
    "    return result\n",
    "     \n",
    "\n",
    "list1 = [2,3,6]\n",
    "print(list1)\n",
    "print(\"result: \") \n",
    "print(mul_list(list1))"
   ]
  },
  {
   "cell_type": "code",
   "execution_count": 59,
   "id": "281b89ae",
   "metadata": {},
   "outputs": [
    {
     "name": "stdout",
     "output_type": "stream",
     "text": [
      "Sorted:\n",
      "[(2, 1), (1, 2), (2, 3), (4, 4), (2, 5)]\n"
     ]
    }
   ],
   "source": [
    "def last(n):\n",
    "    return n[-1]\n",
    "\n",
    "def sort(tuples):\n",
    "    return sorted(tuples, key=last)\n",
    "\n",
    "a=[(2, 5), (1, 2), (4, 4), (2, 3), (2, 1)]\n",
    "print(\"Sorted:\")\n",
    "print(sort(a))"
   ]
  },
  {
   "cell_type": "code",
   "execution_count": 98,
   "id": "286d4ef0",
   "metadata": {},
   "outputs": [
    {
     "name": "stdout",
     "output_type": "stream",
     "text": [
      "{'a': 400, 'b': 400, 'c': 300, 'd': 400}\n"
     ]
    }
   ],
   "source": [
    "d1 = {'a': 100, 'b': 200, 'c':300}\n",
    "d2= {'a': 300, 'b': 200, 'd':400}\n",
    "\n",
    "for key in d2:\n",
    "   if key in d1:\n",
    "      d2[key] = d2[key] + d1[key]\n",
    "   else:\n",
    "    pass\n",
    "res = d1 | d2\n",
    "print(res)"
   ]
  },
  {
   "cell_type": "code",
   "execution_count": 1,
   "id": "5654cdf7",
   "metadata": {},
   "outputs": [
    {
     "name": "stdout",
     "output_type": "stream",
     "text": [
      "enter the value of n:8\n",
      "{1: 1, 2: 4, 3: 9, 4: 16, 5: 25, 6: 36, 7: 49, 8: 64}\n"
     ]
    }
   ],
   "source": [
    "n = int(input(\"enter the value of n:\"))\n",
    "my_dictionary = {}\n",
    "my_dictionary = {i : i*i for i in range (1 , n+1)}\n",
    "print(my_dictionary)"
   ]
  },
  {
   "cell_type": "code",
   "execution_count": 5,
   "id": "27bd2279",
   "metadata": {},
   "outputs": [
    {
     "name": "stdout",
     "output_type": "stream",
     "text": [
      "[('item3', '24.5'), ('item2', '15.10'), ('item1', '12.20')]\n"
     ]
    }
   ],
   "source": [
    "price =[('item1', '12.20'), ('item2', '15.10'), ('item3', '24.5')]\n",
    "print( sorted(price, key=lambda x: float(x[1]), reverse=True))"
   ]
  },
  {
   "cell_type": "code",
   "execution_count": 2,
   "id": "604280fc",
   "metadata": {},
   "outputs": [
    {
     "name": "stdout",
     "output_type": "stream",
     "text": [
      "Create a new set:\n",
      "set()\n",
      "<class 'set'>\n",
      "\n",
      "Create a non empty set:\n",
      "{0, 1, 2, 3, 4}\n",
      "<class 'set'>\n",
      "\n",
      "Using a literal:\n",
      "<class 'set'>\n",
      "{1, 2, 3, 'bar', 'foo'}\n"
     ]
    }
   ],
   "source": [
    "print(\"Create a new set:\")\n",
    "x = set()\n",
    "print(x)\n",
    "print(type(x))\n",
    "print(\"\\nCreate a non empty set:\")\n",
    "n = set([0, 1, 2, 3, 4])\n",
    "print(n)\n",
    "print(type(n))\n",
    "print(\"\\nUsing a literal:\")\n",
    "a = {1,2,3,'foo','bar'}\n",
    "print(type(a))\n",
    "print(a)"
   ]
  },
  {
   "cell_type": "code",
   "execution_count": 3,
   "id": "6558dd63",
   "metadata": {},
   "outputs": [
    {
     "name": "stdout",
     "output_type": "stream",
     "text": [
      "0 1 2 3 4 5 \n",
      "\n",
      "Creating a set using string:\n",
      "r e w u c o 3 s "
     ]
    }
   ],
   "source": [
    "#Create a set \n",
    "num_set = set([0, 1, 2, 3, 4, 5])\n",
    "for n in num_set:\n",
    "  print(n, end=' ')\n",
    "print(\"\\n\\nCreating a set using string:\")\n",
    "char_set = set(\"w3resource\")  \n",
    "# Iterating using for loop\n",
    "for val in char_set:\n",
    "    print(val, end=' ')\n"
   ]
  },
  {
   "cell_type": "code",
   "execution_count": 4,
   "id": "76410cbc",
   "metadata": {},
   "outputs": [
    {
     "name": "stdout",
     "output_type": "stream",
     "text": [
      "set()\n",
      "\n",
      "Add single element:\n",
      "{'Red'}\n",
      "\n",
      "Add multiple items:\n",
      "{'Green', 'Red', 'Blue'}\n"
     ]
    }
   ],
   "source": [
    "#A new empty set\n",
    "color_set = set()\n",
    "print(color_set)\n",
    "print(\"\\nAdd single element:\")\n",
    "color_set.add(\"Red\")\n",
    "print(color_set)\n",
    "print(\"\\nAdd multiple items:\")\n",
    "color_set.update([\"Blue\", \"Green\"])\n",
    "print(color_set)\n"
   ]
  },
  {
   "cell_type": "code",
   "execution_count": null,
   "id": "a1621340",
   "metadata": {},
   "outputs": [],
   "source": []
  }
 ],
 "metadata": {
  "kernelspec": {
   "display_name": "Python 3 (ipykernel)",
   "language": "python",
   "name": "python3"
  },
  "language_info": {
   "codemirror_mode": {
    "name": "ipython",
    "version": 3
   },
   "file_extension": ".py",
   "mimetype": "text/x-python",
   "name": "python",
   "nbconvert_exporter": "python",
   "pygments_lexer": "ipython3",
   "version": "3.9.13"
  }
 },
 "nbformat": 4,
 "nbformat_minor": 5
}
