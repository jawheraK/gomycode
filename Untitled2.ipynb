{
 "cells": [
  {
   "cell_type": "code",
   "execution_count": 3,
   "id": "492762fb",
   "metadata": {},
   "outputs": [
    {
     "name": "stdout",
     "output_type": "stream",
     "text": [
      "Enter your first name zkdz\n",
      "Enter your last name zldkk\n",
      "zldkk zkdz\n"
     ]
    }
   ],
   "source": [
    "first_name = input(\"Enter your first name \")\n",
    "last_name = input(\"Enter your last name \")\n",
    "print(last_name + \" \" + first_name)"
   ]
  },
  {
   "cell_type": "code",
   "execution_count": null,
   "id": "a6f898e3",
   "metadata": {},
   "outputs": [],
   "source": [
    "n = int(input(\"Enter an integer: \"))\n",
    "\n",
    "# compute n+nn+nnn\n",
    "result = n + int(str(n) + str(n)) + int(str(n) + str(n) + str(n))\n",
    "\n",
    "# result\n",
    "print(\"The result is:\", result)\n"
   ]
  },
  {
   "cell_type": "code",
   "execution_count": null,
   "id": "57827efd",
   "metadata": {},
   "outputs": [],
   "source": [
    "num = int(input(\"Enter a number: \"))\n",
    "\n",
    "# check even or odd\n",
    "if num % 2 == 0:\n",
    "    print(num, \"is even\")\n",
    "else:\n",
    "    print(num, \"is odd\")"
   ]
  },
  {
   "cell_type": "code",
   "execution_count": null,
   "id": "bf82111e",
   "metadata": {},
   "outputs": [],
   "source": [
    "nums = []\n",
    "\n",
    "for num in range(2000, 3201):\n",
    "    # check if the number is divisible by 7 and not a multiple of 5\n",
    "    if num % 7 == 0 and num % 5 != 0:\n",
    "        # append the number to the list of numbers\n",
    "        nums.append(num)\n",
    "\n",
    "# print the list of numbers on a single line\n",
    "print(*nums, sep=\", \")"
   ]
  },
  {
   "cell_type": "code",
   "execution_count": null,
   "id": "dd2ae7d1",
   "metadata": {},
   "outputs": [],
   "source": [
    "ch= input(\"Enter Your string\")\n",
    "new_ch =\"\"\n",
    "for i in range(0,len(ch)):\n",
    "    if i % 2 == 0:\n",
    "        new_ch = new_ch+ch[i]\n",
    "print(new_ch)\n",
    "\n"
   ]
  },
  {
   "cell_type": "code",
   "execution_count": null,
   "id": "c8cefb39",
   "metadata": {},
   "outputs": [],
   "source": [
    "num = int(input(\"Enter a number: \"))    \n",
    "factorial = 1    \n",
    "if num < 0:    \n",
    "   print(\" Factorial does not exist for negative numbers\")    \n",
    "elif num == 0:    \n",
    "   print(\"The factorial of 0 is 1\")    \n",
    "else:    \n",
    "   for i in range(1,num + 1):    \n",
    "       factorial = factorial*i    \n",
    "   print(\"The factorial of\",num,\"is\",factorial)\n"
   ]
  },
  {
   "cell_type": "code",
   "execution_count": null,
   "id": "ab8e5100",
   "metadata": {},
   "outputs": [],
   "source": [
    "# get the original price\n",
    "price = float(input(\"Enter the price: \"))\n",
    "\n",
    "# apply the discount based on the price\n",
    "if price >= 500:\n",
    "    discounted_price = price * 0.5\n",
    "elif price >= 200:\n",
    "    discounted_price = price * 0.7\n",
    "else:\n",
    "    discounted_price = price * 0.9\n",
    "\n",
    "# display the discounted price to the user\n",
    "print(\"The discounted price is:\", discounted_price)\n",
    "\n"
   ]
  }
 ],
 "metadata": {
  "kernelspec": {
   "display_name": "Python 3 (ipykernel)",
   "language": "python",
   "name": "python3"
  },
  "language_info": {
   "codemirror_mode": {
    "name": "ipython",
    "version": 3
   },
   "file_extension": ".py",
   "mimetype": "text/x-python",
   "name": "python",
   "nbconvert_exporter": "python",
   "pygments_lexer": "ipython3",
   "version": "3.9.13"
  }
 },
 "nbformat": 4,
 "nbformat_minor": 5
}
